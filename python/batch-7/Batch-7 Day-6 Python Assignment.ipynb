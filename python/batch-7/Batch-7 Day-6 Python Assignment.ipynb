{
 "cells": [
  {
   "cell_type": "markdown",
   "metadata": {},
   "source": [
    "# Question 1\n",
    "For this challenge,create a bank account class that has two attributes\n",
    "*ownerName\n",
    "*Balance\n",
    "And two methods\n",
    "*deposit\n",
    "*withdraw\n",
    "As an added requirement,withdrawals may not exceed the available balance.\n",
    "Instantiate your class,make several deposits and withdrawals,and test to make sure the account\n",
    "cant be overdrawn."
   ]
  },
  {
   "cell_type": "code",
   "execution_count": 5,
   "metadata": {},
   "outputs": [
    {
     "name": "stdout",
     "output_type": "stream",
     "text": [
      "Account owner: Suchitra\n",
      "Account balance: $5000\n",
      "Deposit Accepted, your balance is 6200\n",
      "Funds Unavailable!\n",
      "Withdrawal Accepted, your balance is 5200\n"
     ]
    }
   ],
   "source": [
    "class Account:\n",
    "    \n",
    "    def __init__(self, owner, balance):\n",
    "        self.owner = owner\n",
    "        self.balance = balance\n",
    "    \n",
    "    def __str__(self):\n",
    "        return 'Account owner: {owner}\\nAccount balance: ${balance}'.format(owner=self.owner, balance=self.balance)\n",
    "        \n",
    "    def deposit(self, dp_money):\n",
    "        self.balance += dp_money\n",
    "        print('Deposit Accepted, your balance is {balance}'.format(balance=self.balance))\n",
    "    \n",
    "    def withdraw(self, wd_money):\n",
    "        if wd_money > self.balance:\n",
    "            print('Funds Unavailable!')\n",
    "        else:\n",
    "            self.balance -= wd_money\n",
    "            print('Withdrawal Accepted, your balance is {balance}'.format(balance=self.balance))\n",
    "            \n",
    "acct1 = Account('Suchitra',5000)\n",
    "print(acct1)\n",
    "\n",
    "acct1.deposit(1200)\n",
    "acct1.withdraw(7500)\n",
    "acct1.withdraw(1000)"
   ]
  },
  {
   "cell_type": "markdown",
   "metadata": {},
   "source": [
    "# Question 2\n",
    "For this challenge,create a cone class that has two attributes:\n",
    "*R=Radius\n",
    "*h=Height\n",
    "And two methods:\n",
    "*Volume = Π * r2 = (h/3)\n",
    "*Surface area : base : Π * r2 , side : Π * r * √(r2 + h2)\n",
    "Make only one class with functions,as in where required import Math. "
   ]
  },
  {
   "cell_type": "code",
   "execution_count": 19,
   "metadata": {},
   "outputs": [
    {
     "name": "stdout",
     "output_type": "stream",
     "text": [
      "Volume Of Cone :  1570.7963267948965\n",
      "Surface Area Of Cone :  1099.5574287564275\n"
     ]
    }
   ],
   "source": [
    "# Importing Math library for value Of PI \n",
    "import math \n",
    "pi = math.pi \n",
    "\n",
    "# Function to calculate Volume of Cone \n",
    "def volume(r, h): \n",
    "    return (1 / 3) * pi * r * r * h \n",
    "\n",
    "# Function To Calculate Surface Area of Cone \n",
    "def surfacearea(r, s): \n",
    "    return pi * r * s + pi * r * r \n",
    "\n",
    "# Driver Code \n",
    "radius = float(10) \n",
    "height = float(15) \n",
    "slat_height = float(25) \n",
    "print( \"Volume Of Cone : \", volume(radius, height) ) \n",
    "print( \"Surface Area Of Cone : \", surfacearea(radius, slat_height) ) \n"
   ]
  }
 ],
 "metadata": {
  "kernelspec": {
   "display_name": "Python 3",
   "language": "python",
   "name": "python3"
  },
  "language_info": {
   "codemirror_mode": {
    "name": "ipython",
    "version": 3
   },
   "file_extension": ".py",
   "mimetype": "text/x-python",
   "name": "python",
   "nbconvert_exporter": "python",
   "pygments_lexer": "ipython3",
   "version": "3.7.6"
  }
 },
 "nbformat": 4,
 "nbformat_minor": 4
}
